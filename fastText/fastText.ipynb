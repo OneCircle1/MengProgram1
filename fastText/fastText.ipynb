{
 "cells": [
  {
   "cell_type": "code",
   "execution_count": 46,
   "metadata": {},
   "outputs": [],
   "source": [
    "import fasttext\n",
    "\n",
    "training_file = \"dbpedia.train\"\n",
    "\n",
    "# model11 = fasttext.train_supervised(input = training_file, dim = 10, lr = 0.03)\n",
    "# model12 = fasttext.train_supervised(input = training_file, dim = 100, lr = 0.03)\n",
    "# model13 = fasttext.train_supervised(input = training_file, dim = 200, lr = 0.03)\n",
    "# model21 = fasttext.train_supervised(input = training_file, dim = 10, lr = 0.05)\n",
    "# model22 = fasttext.train_supervised(input = training_file, dim = 100, lr = 0.05)\n",
    "# model23 = fasttext.train_supervised(input = training_file, dim = 200, lr = 0.05)\n",
    "# model31 = fasttext.train_supervised(input = training_file, dim = 10, lr = 0.07)\n",
    "# model32 = fasttext.train_supervised(input = training_file, dim = 100, lr = 0.07)\n",
    "# model33 = fasttext.train_supervised(input = training_file, dim = 200, lr = 0.07)\n",
    "\n",
    "\n",
    "# model1 = fasttext.train_supervised(input = training_file, dim = 50, epoch = 2)\n",
    "# model2 = fasttext.train_supervised(input = training_file, dim = 50, epoch = 3)\n",
    "# model3 = fasttext.train_supervised(input = training_file, dim = 50, epoch = 4)\n",
    "# model4 = fasttext.train_supervised(input = training_file, dim = 50, epoch = 5)\n",
    "# model5 = fasttext.train_supervised(input = training_file, dim = 50, epoch = 6)\n",
    "# model6 = fasttext.train_supervised(input = training_file, dim = 50, epoch = 7)\n",
    "model7 = fasttext.train_supervised(input = training_file, dim = 50, epoch = 8)\n",
    "model8 = fasttext.train_supervised(input = training_file, dim = 50, epoch = 9)"
   ]
  },
  {
   "cell_type": "code",
   "execution_count": 38,
   "metadata": {},
   "outputs": [],
   "source": [
    "# model = fasttext.train_supervised('dbpedia.train.txt','model')"
   ]
  },
  {
   "cell_type": "code",
   "execution_count": 47,
   "metadata": {},
   "outputs": [],
   "source": [
    "# model11.save_model(\"dbpedia11.bin\")\n",
    "# model12.save_model(\"dbpedia12.bin\")\n",
    "# model13.save_model(\"dbpedia13.bin\")\n",
    "\n",
    "# model1.save_model(\"dbpedia1.bin\")\n",
    "# model2.save_model(\"dbpedia2.bin\")\n",
    "# model3.save_model(\"dbpedia3.bin\")\n",
    "# model4.save_model(\"dbpedia4.bin\")\n",
    "# model5.save_model(\"dbpedia5.bin\")\n",
    "# model6.save_model(\"dbpedia6.bin\")\n",
    "model7.save_model(\"dbpedia7.bin\")\n",
    "model8.save_model(\"dbpedia8.bin\")\n"
   ]
  },
  {
   "cell_type": "code",
   "execution_count": 44,
   "metadata": {},
   "outputs": [],
   "source": [
    "testing_file = \"dbpedia.test\"\n",
    "\n",
    "# model.test(testing_file)\n"
   ]
  },
  {
   "cell_type": "code",
   "execution_count": 48,
   "metadata": {},
   "outputs": [
    {
     "name": "stdout",
     "output_type": "stream",
     "text": [
      "(70000, 0.9833714285714286, 0.9833714285714286) 0.9833714285714286 epoch = 8\n",
      "(70000, 0.9833142857142857, 0.9833142857142857) 0.9833142857142857 epoch = 9\n"
     ]
    }
   ],
   "source": [
    "# test_result11 = model11.test(testing_file)\n",
    "# test_result12 = model12.test(testing_file)\n",
    "# # test_result3 = model3.test(testing_file)\n",
    "# # print(test_result1, \"dim = 10\")\n",
    "# print(test_result12, \"dim = 100, lr = 0.03\")\n",
    "# # print(test_result3, \"ngram = 2\")\n",
    "# test_result = test_result12\n",
    "# F1 = 2*(test_result[1]*test_result[2])/(test_result[1]+test_result[2])\n",
    "# print(F1)\n",
    "\n",
    "# test_result1 = model1.test(testing_file)\n",
    "# print(test_result1, 2*(test_result1[1]*test_result1[2])/(test_result1[1]+test_result1[2]), \"epoch = 2\")\n",
    "# test_result2 = model2.test(testing_file)\n",
    "# print(test_result2, 2*(test_result2[1]*test_result2[2])/(test_result2[1]+test_result2[2]), \"epoch = 3\")\n",
    "# test_result3 = model3.test(testing_file)\n",
    "# print(test_result3, 2*(test_result3[1]*test_result3[2])/(test_result3[1]+test_result3[2]), \"epoch = 4\")\n",
    "\n",
    "# test_result4 = model4.test(testing_file)\n",
    "# print(test_result4, 2*(test_result4[1]*test_result4[2])/(test_result4[1]+test_result4[2]), \"epoch = 5\")\n",
    "# test_result5 = model5.test(testing_file)\n",
    "# print(test_result5, 2*(test_result5[1]*test_result5[2])/(test_result5[1]+test_result5[2]), \"epoch = 6\")\n",
    "# test_result6 = model6.test(testing_file)\n",
    "# print(test_result6, 2*(test_result6[1]*test_result6[2])/(test_result6[1]+test_result6[2]), \"epoch = 7\")\n",
    "\n",
    "test_result7 = model7.test(testing_file)\n",
    "print(test_result7, 2*(test_result7[1]*test_result7[2])/(test_result7[1]+test_result7[2]), \"epoch = 8\")\n",
    "test_result8 = model8.test(testing_file)\n",
    "print(test_result8, 2*(test_result8[1]*test_result8[2])/(test_result8[1]+test_result8[2]), \"epoch = 9\")"
   ]
  },
  {
   "cell_type": "code",
   "execution_count": 8,
   "metadata": {},
   "outputs": [],
   "source": [
    "# print(type(test_result[1]))"
   ]
  },
  {
   "cell_type": "code",
   "execution_count": 9,
   "metadata": {},
   "outputs": [],
   "source": [
    "F1 = 2*(test_result[1]*test_result[2])/(test_result[1]+test_result[2])"
   ]
  },
  {
   "cell_type": "code",
   "execution_count": 10,
   "metadata": {},
   "outputs": [],
   "source": [
    "# print(F1)"
   ]
  },
  {
   "cell_type": "code",
   "execution_count": 11,
   "metadata": {},
   "outputs": [
    {
     "name": "stdout",
     "output_type": "stream",
     "text": [
      "The pricision is 0.983443.\n"
     ]
    }
   ],
   "source": [
    "print(\"The pricision is %f.\" % test_result[1])"
   ]
  },
  {
   "cell_type": "code",
   "execution_count": 12,
   "metadata": {},
   "outputs": [
    {
     "name": "stdout",
     "output_type": "stream",
     "text": [
      "The recall is 0.983443.\n"
     ]
    }
   ],
   "source": [
    "print(\"The recall is %f.\" % test_result[2])"
   ]
  },
  {
   "cell_type": "code",
   "execution_count": 13,
   "metadata": {},
   "outputs": [
    {
     "name": "stdout",
     "output_type": "stream",
     "text": [
      "The F1 value is 0.983443.\n"
     ]
    }
   ],
   "source": [
    "print(\"The F1 value is %f.\" % F1)"
   ]
  },
  {
   "cell_type": "code",
   "execution_count": null,
   "metadata": {},
   "outputs": [],
   "source": []
  }
 ],
 "metadata": {
  "kernelspec": {
   "display_name": "Python 3",
   "language": "python",
   "name": "python3"
  },
  "language_info": {
   "codemirror_mode": {
    "name": "ipython",
    "version": 3
   },
   "file_extension": ".py",
   "mimetype": "text/x-python",
   "name": "python",
   "nbconvert_exporter": "python",
   "pygments_lexer": "ipython3",
   "version": "3.6.5"
  }
 },
 "nbformat": 4,
 "nbformat_minor": 2
}
